{
 "cells": [
  {
   "cell_type": "code",
   "execution_count": 3,
   "id": "c2f9e859",
   "metadata": {},
   "outputs": [
    {
     "data": {
      "text/plain": [
       "[[1, 2, 3], [1, 3, 2], [2, 1, 3], [2, 3, 1], [3, 1, 2], [3, 2, 1]]"
      ]
     },
     "execution_count": 3,
     "metadata": {},
     "output_type": "execute_result"
    }
   ],
   "source": [
    "def recursive(nums, perm=[], res=[]):\n",
    "        \n",
    "            if not nums: \n",
    "                res.append(perm) # --- no need to copy as we are not popping/backtracking. Instead we're passing a new variable each time \n",
    "\n",
    "            for i in range(len(nums)): \n",
    "                newNums = nums[:i] + nums[i+1:]\n",
    "                # perm.append(nums[i]) # --- instead of appending to the same variable\n",
    "                newPerm = perm + [nums[i]] # --- new copy of the data/variable\n",
    "                recursive(newNums, newPerm, res) \n",
    "                # perm.pop()  # --- no need to backtrack\n",
    "            return res\n",
    "recursive([1,2,3])"
   ]
  }
 ],
 "metadata": {
  "kernelspec": {
   "display_name": "Python 3 (ipykernel)",
   "language": "python",
   "name": "python3"
  },
  "language_info": {
   "codemirror_mode": {
    "name": "ipython",
    "version": 3
   },
   "file_extension": ".py",
   "mimetype": "text/x-python",
   "name": "python",
   "nbconvert_exporter": "python",
   "pygments_lexer": "ipython3",
   "version": "3.8.11"
  }
 },
 "nbformat": 4,
 "nbformat_minor": 5
}
