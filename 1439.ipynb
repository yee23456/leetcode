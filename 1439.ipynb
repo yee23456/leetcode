{
  "nbformat": 4,
  "nbformat_minor": 0,
  "metadata": {
    "colab": {
      "name": "1439",
      "provenance": [],
      "authorship_tag": "ABX9TyOvbSRLnXWujyyMtxhzFURE",
      "include_colab_link": true
    },
    "kernelspec": {
      "name": "python3",
      "display_name": "Python 3"
    },
    "language_info": {
      "name": "python"
    }
  },
  "cells": [
    {
      "cell_type": "markdown",
      "metadata": {
        "id": "view-in-github",
        "colab_type": "text"
      },
      "source": [
        "<a href=\"https://colab.research.google.com/github/yee23456/leetcode/blob/main/1439.ipynb\" target=\"_parent\"><img src=\"https://colab.research.google.com/assets/colab-badge.svg\" alt=\"Open In Colab\"/></a>"
      ]
    },
    {
      "cell_type": "code",
      "execution_count": 4,
      "metadata": {
        "colab": {
          "base_uri": "https://localhost:8080/"
        },
        "id": "419N-LwxKX3_",
        "outputId": "9046ff72-5d42-4a2a-98eb-beb6cae5dc97"
      },
      "outputs": [
        {
          "output_type": "execute_result",
          "data": {
            "text/plain": [
              "7"
            ]
          },
          "metadata": {},
          "execution_count": 4
        }
      ],
      "source": [
        "import heapq\n",
        "def kthSmallest(mat,k):\n",
        "  nrow,ncol = len(mat),len(mat[0])\n",
        "  smallest = sum(mat[i][0] for i in range(nrow))\n",
        "  choice = [smallest] + [0] * nrow\n",
        "  seen = set()\n",
        "  pq = [choice]\n",
        "\n",
        "  while k - 1:\n",
        "    prev = heapq.heappop(pq)\n",
        "    k-=1\n",
        "    for i in range(nrow):\n",
        "      if prev[i+1] == ncol - 1:\n",
        "        continue\n",
        "      next_ = prev.copy()\n",
        "      next_[0] -= mat[i][next_[i+1]]\n",
        "      next_[i+1] += 1\n",
        "      next_[0] += mat[i][next_[i+1]]\n",
        "      if tuple(next_) in seen:\n",
        "        continue\n",
        "      seen.add(tuple(next_))\n",
        "      heapq.heappush(pq,next_)\n",
        "  return pq[0][0]\n",
        "kthSmallest([[1,3,11],[2,4,6]],5)"
      ]
    }
  ]
}